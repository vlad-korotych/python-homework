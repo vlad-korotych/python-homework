{
 "cells": [
  {
   "cell_type": "markdown",
   "metadata": {},
   "source": [
    "Задание 1\n",
    "Напишите функцию date_range, которая возвращает список дней между датами start_date и end_date. Даты должны вводиться в формате YYYY-MM-DD."
   ]
  },
  {
   "cell_type": "code",
   "execution_count": 27,
   "metadata": {},
   "outputs": [],
   "source": [
    "from datetime import datetime as dt, timedelta as td"
   ]
  },
  {
   "cell_type": "code",
   "execution_count": 28,
   "metadata": {},
   "outputs": [
    {
     "data": {
      "text/plain": [
       "[datetime.datetime(2018, 9, 7, 0, 0),\n",
       " datetime.datetime(2018, 9, 8, 0, 0),\n",
       " datetime.datetime(2018, 9, 9, 0, 0),\n",
       " datetime.datetime(2018, 9, 10, 0, 0),\n",
       " datetime.datetime(2018, 9, 11, 0, 0),\n",
       " datetime.datetime(2018, 9, 12, 0, 0),\n",
       " datetime.datetime(2018, 9, 13, 0, 0),\n",
       " datetime.datetime(2018, 9, 14, 0, 0),\n",
       " datetime.datetime(2018, 9, 15, 0, 0),\n",
       " datetime.datetime(2018, 9, 16, 0, 0)]"
      ]
     },
     "execution_count": 28,
     "metadata": {},
     "output_type": "execute_result"
    }
   ],
   "source": [
    "def date_iter(start_date, end_date):\n",
    "    days = int((end_date - start_date).days)\n",
    "    for n in range(days):\n",
    "        yield start_date + td(days=n)\n",
    "        \n",
    "def date_range(start_date_str, end_date_str):\n",
    "    start_date = dt.strptime(start_date_str, '%Y-%m-%d')\n",
    "    end_date = dt.strptime(end_date_str, '%Y-%m-%d')\n",
    "    \n",
    "    res = []\n",
    "    for date in date_iter(start_date, end_date):\n",
    "        res.append(date)\n",
    "    return res\n",
    "        \n",
    "start_date = '2018-09-07'\n",
    "end_date = '2018-09-17'\n",
    "\n",
    "date_range(start_date, end_date)"
   ]
  },
  {
   "cell_type": "markdown",
   "metadata": {},
   "source": [
    "Задание 2\n",
    "Дополните функцию из первого задания проверкой на корректность дат. В случае неверного формата или если start_date > end_date должен возвращаться пустой список."
   ]
  },
  {
   "cell_type": "code",
   "execution_count": 31,
   "metadata": {},
   "outputs": [
    {
     "data": {
      "text/plain": [
       "[]"
      ]
     },
     "execution_count": 31,
     "metadata": {},
     "output_type": "execute_result"
    }
   ],
   "source": [
    "def date_range2(start_date_str, end_date_str):    \n",
    "    res = []\n",
    "    try:\n",
    "        start_date = dt.strptime(start_date_str, '%Y-%m-%d')\n",
    "        end_date = dt.strptime(end_date_str, '%Y-%m-%d')\n",
    "    except Exception:\n",
    "        return res\n",
    "    \n",
    "    if end_date < start_date:\n",
    "        return res\n",
    "    for d in date_iter(start_date, end_date):\n",
    "        res.append(d)\n",
    "    return res\n",
    "\n",
    "date_range2('2018-09-17', '2018-09-07')"
   ]
  },
  {
   "cell_type": "code",
   "execution_count": null,
   "metadata": {},
   "outputs": [],
   "source": []
  }
 ],
 "metadata": {
  "kernelspec": {
   "display_name": "Python 3",
   "language": "python",
   "name": "python3"
  },
  "language_info": {
   "codemirror_mode": {
    "name": "ipython",
    "version": 3
   },
   "file_extension": ".py",
   "mimetype": "text/x-python",
   "name": "python",
   "nbconvert_exporter": "python",
   "pygments_lexer": "ipython3",
   "version": "3.6.5"
  }
 },
 "nbformat": 4,
 "nbformat_minor": 2
}
