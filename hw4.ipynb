{
 "cells": [
  {
   "cell_type": "markdown",
   "metadata": {},
   "source": [
    "Задание 1\n",
    "Напишите функцию date_range, которая возвращает список дней между датами start_date и end_date. Даты должны вводиться в формате YYYY-MM-DD."
   ]
  },
  {
   "cell_type": "code",
   "execution_count": 1,
   "metadata": {},
   "outputs": [],
   "source": [
    "from datetime import datetime as dt, timedelta as td"
   ]
  },
  {
   "cell_type": "code",
   "execution_count": 2,
   "metadata": {},
   "outputs": [
    {
     "data": {
      "text/plain": [
       "[datetime.datetime(2018, 9, 7, 0, 0),\n",
       " datetime.datetime(2018, 9, 8, 0, 0),\n",
       " datetime.datetime(2018, 9, 9, 0, 0),\n",
       " datetime.datetime(2018, 9, 10, 0, 0),\n",
       " datetime.datetime(2018, 9, 11, 0, 0),\n",
       " datetime.datetime(2018, 9, 12, 0, 0),\n",
       " datetime.datetime(2018, 9, 13, 0, 0),\n",
       " datetime.datetime(2018, 9, 14, 0, 0),\n",
       " datetime.datetime(2018, 9, 15, 0, 0),\n",
       " datetime.datetime(2018, 9, 16, 0, 0)]"
      ]
     },
     "execution_count": 2,
     "metadata": {},
     "output_type": "execute_result"
    }
   ],
   "source": [
    "def date_iter(start_date, end_date):\n",
    "    days = int((end_date - start_date).days)\n",
    "    for n in range(days):\n",
    "        yield start_date + td(days=n)\n",
    "        \n",
    "def date_range(start_date_str, end_date_str):\n",
    "    start_date = dt.strptime(start_date_str, '%Y-%m-%d')\n",
    "    end_date = dt.strptime(end_date_str, '%Y-%m-%d')\n",
    "    \n",
    "    res = []\n",
    "    for date in date_iter(start_date, end_date):\n",
    "        res.append(date)\n",
    "    return res\n",
    "        \n",
    "start_date = '2018-09-07'\n",
    "end_date = '2018-09-17'\n",
    "\n",
    "date_range(start_date, end_date)"
   ]
  },
  {
   "cell_type": "markdown",
   "metadata": {},
   "source": [
    "Задание 2\n",
    "Дополните функцию из первого задания проверкой на корректность дат. В случае неверного формата или если start_date > end_date должен возвращаться пустой список."
   ]
  },
  {
   "cell_type": "code",
   "execution_count": 3,
   "metadata": {},
   "outputs": [
    {
     "data": {
      "text/plain": [
       "[]"
      ]
     },
     "execution_count": 3,
     "metadata": {},
     "output_type": "execute_result"
    }
   ],
   "source": [
    "def date_range2(start_date_str, end_date_str):    \n",
    "    res = []\n",
    "    try:\n",
    "        start_date = dt.strptime(start_date_str, '%Y-%m-%d')\n",
    "        end_date = dt.strptime(end_date_str, '%Y-%m-%d')\n",
    "    except Exception:\n",
    "        return res\n",
    "    \n",
    "    if end_date < start_date:\n",
    "        return res\n",
    "    for d in date_iter(start_date, end_date):\n",
    "        res.append(d)\n",
    "    return res\n",
    "\n",
    "date_range2('2018-09-17', '2018-09-07')"
   ]
  },
  {
   "cell_type": "code",
   "execution_count": 4,
   "metadata": {},
   "outputs": [
    {
     "data": {
      "text/plain": [
       "[]"
      ]
     },
     "execution_count": 4,
     "metadata": {},
     "output_type": "execute_result"
    }
   ],
   "source": [
    "date_range2('2018-09-17', 'dfgf')"
   ]
  },
  {
   "cell_type": "code",
   "execution_count": 5,
   "metadata": {},
   "outputs": [
    {
     "data": {
      "text/plain": [
       "[datetime.datetime(2018, 9, 7, 0, 0),\n",
       " datetime.datetime(2018, 9, 8, 0, 0),\n",
       " datetime.datetime(2018, 9, 9, 0, 0),\n",
       " datetime.datetime(2018, 9, 10, 0, 0),\n",
       " datetime.datetime(2018, 9, 11, 0, 0),\n",
       " datetime.datetime(2018, 9, 12, 0, 0),\n",
       " datetime.datetime(2018, 9, 13, 0, 0),\n",
       " datetime.datetime(2018, 9, 14, 0, 0),\n",
       " datetime.datetime(2018, 9, 15, 0, 0),\n",
       " datetime.datetime(2018, 9, 16, 0, 0)]"
      ]
     },
     "execution_count": 5,
     "metadata": {},
     "output_type": "execute_result"
    }
   ],
   "source": [
    "date_range2('2018-09-07', '2018-09-17')"
   ]
  },
  {
   "cell_type": "markdown",
   "metadata": {},
   "source": [
    "Задание 3\n",
    "Дан поток дат в формате YYYY-MM-DD, в которых встречаются некорректные значения:\n",
    "stream = ['2018-04-02', '2018-02-29', '2018-19-02']\n",
    "Напишите функцию, которая проверяет эти даты на корректность. Т. е. для каждой даты возвращает True (дата корректна) или False (некорректная дата)."
   ]
  },
  {
   "cell_type": "code",
   "execution_count": 6,
   "metadata": {},
   "outputs": [
    {
     "name": "stdout",
     "output_type": "stream",
     "text": [
      "2018-04-02 True\n",
      "2018-02-29 False\n",
      "2018-19-02 False\n"
     ]
    }
   ],
   "source": [
    "def chk_date(date_str):\n",
    "    try:\n",
    "        date = dt.strptime(d, '%Y-%m-%d')\n",
    "        return True\n",
    "    except Exception:\n",
    "        return False\n",
    "\n",
    "stream = ['2018-04-02', '2018-02-29', '2018-19-02']\n",
    "for d in stream:\n",
    "    print(d, chk_date(d))"
   ]
  },
  {
   "cell_type": "markdown",
   "metadata": {},
   "source": [
    "Задание 4\n",
    "Напишите функцию, которая возвращает список дат с 1 по вчерашний день текущего месяца. Если дан 1 день месяца, то возвращается список дней прошлого месяца."
   ]
  },
  {
   "cell_type": "code",
   "execution_count": 10,
   "metadata": {},
   "outputs": [
    {
     "data": {
      "text/plain": [
       "[datetime.datetime(2018, 9, 1, 0, 0),\n",
       " datetime.datetime(2018, 9, 2, 0, 0),\n",
       " datetime.datetime(2018, 9, 3, 0, 0),\n",
       " datetime.datetime(2018, 9, 4, 0, 0),\n",
       " datetime.datetime(2018, 9, 5, 0, 0),\n",
       " datetime.datetime(2018, 9, 6, 0, 0),\n",
       " datetime.datetime(2018, 9, 7, 0, 0),\n",
       " datetime.datetime(2018, 9, 8, 0, 0),\n",
       " datetime.datetime(2018, 9, 9, 0, 0),\n",
       " datetime.datetime(2018, 9, 10, 0, 0),\n",
       " datetime.datetime(2018, 9, 11, 16, 12, 33, 25945)]"
      ]
     },
     "execution_count": 10,
     "metadata": {},
     "output_type": "execute_result"
    }
   ],
   "source": [
    "def days_from_month_start(today=dt.now()):\n",
    "    end_date = today - td(1)\n",
    "    start_date = dt(year=end_date.year, month=end_date.month, day=1)\n",
    "    res = []\n",
    "    for d in date_iter(start_date, end_date):\n",
    "        res.append(d)\n",
    "    res.append(end_date)\n",
    "    return res\n",
    "\n",
    "\n",
    "days_from_month_start()"
   ]
  },
  {
   "cell_type": "code",
   "execution_count": 11,
   "metadata": {},
   "outputs": [
    {
     "data": {
      "text/plain": [
       "[datetime.datetime(2018, 8, 1, 0, 0),\n",
       " datetime.datetime(2018, 8, 2, 0, 0),\n",
       " datetime.datetime(2018, 8, 3, 0, 0),\n",
       " datetime.datetime(2018, 8, 4, 0, 0),\n",
       " datetime.datetime(2018, 8, 5, 0, 0),\n",
       " datetime.datetime(2018, 8, 6, 0, 0),\n",
       " datetime.datetime(2018, 8, 7, 0, 0),\n",
       " datetime.datetime(2018, 8, 8, 0, 0),\n",
       " datetime.datetime(2018, 8, 9, 0, 0),\n",
       " datetime.datetime(2018, 8, 10, 0, 0),\n",
       " datetime.datetime(2018, 8, 11, 0, 0),\n",
       " datetime.datetime(2018, 8, 12, 0, 0),\n",
       " datetime.datetime(2018, 8, 13, 0, 0),\n",
       " datetime.datetime(2018, 8, 14, 0, 0),\n",
       " datetime.datetime(2018, 8, 15, 0, 0),\n",
       " datetime.datetime(2018, 8, 16, 0, 0),\n",
       " datetime.datetime(2018, 8, 17, 0, 0),\n",
       " datetime.datetime(2018, 8, 18, 0, 0),\n",
       " datetime.datetime(2018, 8, 19, 0, 0),\n",
       " datetime.datetime(2018, 8, 20, 0, 0),\n",
       " datetime.datetime(2018, 8, 21, 0, 0),\n",
       " datetime.datetime(2018, 8, 22, 0, 0),\n",
       " datetime.datetime(2018, 8, 23, 0, 0),\n",
       " datetime.datetime(2018, 8, 24, 0, 0),\n",
       " datetime.datetime(2018, 8, 25, 0, 0),\n",
       " datetime.datetime(2018, 8, 26, 0, 0),\n",
       " datetime.datetime(2018, 8, 27, 0, 0),\n",
       " datetime.datetime(2018, 8, 28, 0, 0),\n",
       " datetime.datetime(2018, 8, 29, 0, 0),\n",
       " datetime.datetime(2018, 8, 30, 0, 0),\n",
       " datetime.datetime(2018, 8, 31, 0, 0)]"
      ]
     },
     "execution_count": 11,
     "metadata": {},
     "output_type": "execute_result"
    }
   ],
   "source": [
    "days_from_month_start(dt(2018, 9, 1))"
   ]
  },
  {
   "cell_type": "markdown",
   "metadata": {},
   "source": [
    "Задание 5\n",
    "Напишите функцию, которая возвращает точную дату в формате YYYY-MM-DD по фразе:\n",
    "1. 'today' - сегодняшнюю дату\n",
    "2. 'last monday' -  прошлый понедельник\n",
    "3. 'last day' - Последний день текущего месяца"
   ]
  },
  {
   "cell_type": "code",
   "execution_count": 25,
   "metadata": {},
   "outputs": [
    {
     "data": {
      "text/plain": [
       "'2018-09-12'"
      ]
     },
     "execution_count": 25,
     "metadata": {},
     "output_type": "execute_result"
    }
   ],
   "source": [
    "def say_date(phrase):\n",
    "    today = dt.now().date()\n",
    "    if phrase == 'today':\n",
    "        return dt.strftime(today, '%Y-%m-%d')\n",
    "    elif phrase == 'last monday':\n",
    "        return dt.strftime(today - td(days=today.weekday()), '%Y-%m-%d')\n",
    "    elif phrase == 'last day':\n",
    "        next_month = today.replace(day=28) + td(days=4)\n",
    "        return dt.strftime(next_month - td(days=next_month.day), '%Y-%m-%d')\n",
    "    else:\n",
    "        return 'Unrecognized phrase'\n",
    "\n",
    "say_date('today')"
   ]
  },
  {
   "cell_type": "code",
   "execution_count": 26,
   "metadata": {},
   "outputs": [
    {
     "data": {
      "text/plain": [
       "'2018-09-10'"
      ]
     },
     "execution_count": 26,
     "metadata": {},
     "output_type": "execute_result"
    }
   ],
   "source": [
    "say_date('last monday')"
   ]
  },
  {
   "cell_type": "code",
   "execution_count": 27,
   "metadata": {},
   "outputs": [
    {
     "data": {
      "text/plain": [
       "'2018-09-30'"
      ]
     },
     "execution_count": 27,
     "metadata": {},
     "output_type": "execute_result"
    }
   ],
   "source": [
    "say_date('last day')"
   ]
  },
  {
   "cell_type": "markdown",
   "metadata": {},
   "source": [
    "Задание 6\n",
    "Напишите функцию, которая разбивает на недели с понедельника по воскресенье интервал дат между start_date и end_date. Считайте, что входные данные всегда корректны. В ответ должны входить только полные недели."
   ]
  },
  {
   "cell_type": "code",
   "execution_count": 50,
   "metadata": {},
   "outputs": [],
   "source": [
    "def next_monday(date):\n",
    "    if date.weekday() == 0:\n",
    "        return date\n",
    "    return date + td(days=-date.weekday(), weeks=1)\n",
    "\n",
    "def last_sunday(date):\n",
    "    if date.weekday() == 6:\n",
    "        return date\n",
    "    return date - td(days=date.weekday()+1)\n",
    "\n",
    "def week_iter(start_date, end_date):\n",
    "    weeks = int((next_monday(end_date) - start_date).days/7)\n",
    "    for n in range(weeks):\n",
    "        start_week = start_date + td(weeks=n)\n",
    "        end_week = start_date + td(weeks=n, days=6)\n",
    "        yield (start_week, end_week)\n",
    "        \n",
    "def period_to_weeks(start_date, end_date):\n",
    "    res = []\n",
    "    for w in week_iter(start_date, end_date):\n",
    "        res.append(w)\n",
    "    return res"
   ]
  },
  {
   "cell_type": "code",
   "execution_count": 51,
   "metadata": {},
   "outputs": [
    {
     "data": {
      "text/plain": [
       "[(datetime.datetime(2018, 8, 27, 0, 0), datetime.datetime(2018, 9, 2, 0, 0)),\n",
       " (datetime.datetime(2018, 9, 3, 0, 0), datetime.datetime(2018, 9, 9, 0, 0)),\n",
       " (datetime.datetime(2018, 9, 10, 0, 0), datetime.datetime(2018, 9, 16, 0, 0))]"
      ]
     },
     "execution_count": 51,
     "metadata": {},
     "output_type": "execute_result"
    }
   ],
   "source": [
    "start_date = next_monday(dt(2018, 8, 23))\n",
    "end_date = last_sunday(dt(2018, 9, 16))\n",
    "\n",
    "period_to_weeks(start_date, end_date)"
   ]
  },
  {
   "cell_type": "code",
   "execution_count": null,
   "metadata": {},
   "outputs": [],
   "source": []
  }
 ],
 "metadata": {
  "kernelspec": {
   "display_name": "Python 3",
   "language": "python",
   "name": "python3"
  },
  "language_info": {
   "codemirror_mode": {
    "name": "ipython",
    "version": 3
   },
   "file_extension": ".py",
   "mimetype": "text/x-python",
   "name": "python",
   "nbconvert_exporter": "python",
   "pygments_lexer": "ipython3",
   "version": "3.6.5"
  }
 },
 "nbformat": 4,
 "nbformat_minor": 2
}
